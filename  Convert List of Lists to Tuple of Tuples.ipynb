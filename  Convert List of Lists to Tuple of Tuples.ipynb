{
 "cells": [
  {
   "cell_type": "code",
   "execution_count": 32,
   "id": "90ff2e2a",
   "metadata": {},
   "outputs": [
    {
     "name": "stdout",
     "output_type": "stream",
     "text": [
      "The original list is : [['Gfg', 'is', 'Best'], ['Gfg', 'is', 'love'], ['Gfg', 'is', 'for', 'Geeks']]\n",
      "The converted data : (('Gfg', 'is', 'Best'), ('Gfg', 'is', 'love'), ('Gfg', 'is', 'for', 'Geeks'))\n"
     ]
    }
   ],
   "source": [
    "# Initializing list\n",
    "test_list = [['Gfg', 'is', 'Best'], ['Gfg', 'is', 'love'],\n",
    "             ['Gfg', 'is', 'for', 'Geeks']]\n",
    " \n",
    "# Printing original list\n",
    "print(\"The original list is : \" + str(test_list))\n",
    " \n",
    "# Convert List of Lists to Tuple of Tuples\n",
    "# using tuple + list comprehension\n",
    "res = tuple(tuple(sub) for sub in test_list)\n",
    " \n",
    "# Printing result\n",
    "print(\"The converted data : \" + str(res))\n"
   ]
  },
  {
   "cell_type": "code",
   "execution_count": 33,
   "id": "f1a70d39",
   "metadata": {},
   "outputs": [
    {
     "name": "stdout",
     "output_type": "stream",
     "text": [
      "The original list is : [['Gfg', 'is', 'Best'], ['Gfg', 'is', 'love'], ['Gfg', 'is', 'for', 'Geeks']]\n",
      "The converted data : (('Gfg', 'is', 'Best'), ('Gfg', 'is', 'love'), ('Gfg', 'is', 'for', 'Geeks'))\n"
     ]
    }
   ],
   "source": [
    "# Initializing list\n",
    "test_list = [['Gfg', 'is', 'Best'], ['Gfg', 'is', 'love'],\n",
    "             ['Gfg', 'is', 'for', 'Geeks']]\n",
    " \n",
    "# Printing original list\n",
    "print(\"The original list is : \" + str(test_list))\n",
    " \n",
    "# Convert List of Lists to Tuple of Tuples\n",
    "# using map() + tuple()\n",
    "res = tuple(map(tuple, test_list))\n",
    " \n",
    "# Printing result\n",
    "print(\"The converted data : \" + str(res))"
   ]
  },
  {
   "cell_type": "code",
   "execution_count": 34,
   "id": "a4a88ef8",
   "metadata": {},
   "outputs": [
    {
     "name": "stdout",
     "output_type": "stream",
     "text": [
      "(('Gfg', 'is', 'Best'), ('Gfg', 'is', 'love'), ('Gfg', 'is', 'for', 'Geeks'))\n"
     ]
    }
   ],
   "source": [
    "# Initializing list\n",
    "test_list = [['Gfg', 'is', 'Best'], ['Gfg', 'is', 'love'],\n",
    "             ['Gfg', 'is', 'for', 'Geeks']]\n",
    " \n",
    "res = tuple(tuple(i) for a, i in enumerate(test_list))\n",
    " \n",
    "# Printing result\n",
    "print((res))"
   ]
  },
  {
   "cell_type": "code",
   "execution_count": 35,
   "id": "dfc68688",
   "metadata": {},
   "outputs": [
    {
     "name": "stdout",
     "output_type": "stream",
     "text": [
      "The original list is : [['Gfg', 'is', 'Best'], ['Gfg', 'is', 'love'], ['Gfg', 'is', 'for', 'Geeks']]\n",
      "The converted data : (('Gfg', 'is', 'Best'), ('Gfg', 'is', 'love'), ('Gfg', 'is', 'for', 'Geeks'))\n"
     ]
    }
   ],
   "source": [
    "def list_to_tuple(lst):\n",
    " \n",
    "    if len(lst) == 0:\n",
    "        return ()\n",
    "    else:\n",
    "        return (tuple(lst[0]),) + list_to_tuple(lst[1:])\n",
    " \n",
    " \n",
    "# Initializing list\n",
    "test_list = [['Gfg', 'is', 'Best'], ['Gfg', 'is', 'love'],\n",
    "             ['Gfg', 'is', 'for', 'Geeks']]\n",
    " \n",
    "# Printing original list\n",
    "print(\"The original list is : \" + str(test_list))\n",
    " \n",
    "res = list_to_tuple(test_list)\n",
    " \n",
    "# Printing result\n",
    "print(\"The converted data : \" + str(res))"
   ]
  },
  {
   "cell_type": "code",
   "execution_count": 36,
   "id": "588420a0",
   "metadata": {},
   "outputs": [
    {
     "name": "stdout",
     "output_type": "stream",
     "text": [
      "The original list is : [['Gfg', 'is', 'Best'], ['Gfg', 'is', 'love'], ['Gfg', 'is', 'for', 'Geeks']]\n",
      "The converted data : (('Gfg', 'is', 'Best'), ('Gfg', 'is', 'love'), ('Gfg', 'is', 'for', 'Geeks'))\n"
     ]
    }
   ],
   "source": [
    "# Initializing list\n",
    "test_list = [['Gfg', 'is', 'Best'], ['Gfg', 'is', 'love'],\n",
    "             ['Gfg', 'is', 'for', 'Geeks']]\n",
    " \n",
    "# Printing original list\n",
    "print(\"The original list is : \" + str(test_list))\n",
    " \n",
    "# Convert List of Lists to Tuple of Tuples\n",
    "# using nested loops\n",
    " \n",
    "# Empty list \n",
    "res = []\n",
    " \n",
    "for sub in test_list:\n",
    "    tup = ()\n",
    "    for ele in sub:\n",
    "        tup += (ele,)\n",
    "    res.append(tup)\n",
    "     \n",
    "res = tuple(res)\n",
    " \n",
    "# Printing result\n",
    "print(\"The converted data : \" + str(res))"
   ]
  },
  {
   "cell_type": "code",
   "execution_count": 37,
   "id": "60772fa9",
   "metadata": {},
   "outputs": [
    {
     "name": "stdout",
     "output_type": "stream",
     "text": [
      "The original list is : [['Gfg', 'is', 'Best'], ['Gfg', 'is', 'love'], ['Gfg', 'is', 'for', 'Geeks']]\n",
      "The converted data : (('Gfg', 'is', 'Best'), ('Gfg', 'is', 'love'), ('Gfg', 'is', 'for', 'Geeks'))\n"
     ]
    }
   ],
   "source": [
    "def list_to_tuple(lst):\n",
    "    return tuple(tuple(inner_lst) for inner_lst in lst)\n",
    " \n",
    " # Initializing list\n",
    "test_list = [['Gfg', 'is', 'Best'], ['Gfg', 'is', 'love'],\n",
    "             ['Gfg', 'is', 'for', 'Geeks']]\n",
    " \n",
    "# Printing original list\n",
    "print(\"The original list is : \" + str(test_list))\n",
    " \n",
    "res = list_to_tuple(test_list)\n",
    " \n",
    "# Printing result\n",
    "print(\"The converted data : \" + str(res))"
   ]
  },
  {
   "cell_type": "code",
   "execution_count": null,
   "id": "928b94c8",
   "metadata": {},
   "outputs": [],
   "source": []
  }
 ],
 "metadata": {
  "kernelspec": {
   "display_name": "Python 3 (ipykernel)",
   "language": "python",
   "name": "python3"
  },
  "language_info": {
   "codemirror_mode": {
    "name": "ipython",
    "version": 3
   },
   "file_extension": ".py",
   "mimetype": "text/x-python",
   "name": "python",
   "nbconvert_exporter": "python",
   "pygments_lexer": "ipython3",
   "version": "3.9.13"
  }
 },
 "nbformat": 4,
 "nbformat_minor": 5
}
